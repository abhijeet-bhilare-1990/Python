{
 "cells": [
  {
   "cell_type": "markdown",
   "metadata": {},
   "source": [
    "***Author - Abhijeet Bhilare.\\\n",
    "Machine Learning and Data Science Enthusiastic.\\\n",
    "github link https://github.com/abhijeet-bhilare-1990/.***\n",
    "\n",
    "## Pandas Basic Tutorial 1\n",
    "**Find All Documentation of Pandas Operation\\\n",
    "https://pandas.pydata.org/pandas-docs/stable/reference/api/pandas.Series.html**"
   ]
  },
  {
   "cell_type": "code",
   "execution_count": 18,
   "metadata": {},
   "outputs": [
    {
     "name": "stdout",
     "output_type": "stream",
     "text": [
      "CPU times: user 3 µs, sys: 0 ns, total: 3 µs\n",
      "Wall time: 5.25 µs\n"
     ]
    },
    {
     "data": {
      "text/html": [
       "<div>\n",
       "<style scoped>\n",
       "    .dataframe tbody tr th:only-of-type {\n",
       "        vertical-align: middle;\n",
       "    }\n",
       "\n",
       "    .dataframe tbody tr th {\n",
       "        vertical-align: top;\n",
       "    }\n",
       "\n",
       "    .dataframe thead th {\n",
       "        text-align: right;\n",
       "    }\n",
       "</style>\n",
       "<table border=\"1\" class=\"dataframe\">\n",
       "  <thead>\n",
       "    <tr style=\"text-align: right;\">\n",
       "      <th></th>\n",
       "      <th>Region</th>\n",
       "      <th>Country</th>\n",
       "      <th>Item Type</th>\n",
       "      <th>Sales Channel</th>\n",
       "      <th>Order Priority</th>\n",
       "      <th>Order Date</th>\n",
       "      <th>Order ID</th>\n",
       "      <th>Ship Date</th>\n",
       "      <th>Units Sold</th>\n",
       "      <th>Unit Price</th>\n",
       "      <th>Unit Cost</th>\n",
       "      <th>Total Revenue</th>\n",
       "      <th>Total Cost</th>\n",
       "      <th>Total Profit</th>\n",
       "    </tr>\n",
       "  </thead>\n",
       "  <tbody>\n",
       "    <tr>\n",
       "      <th>0</th>\n",
       "      <td>Sub-Saharan Africa</td>\n",
       "      <td>Namibia</td>\n",
       "      <td>Household</td>\n",
       "      <td>Offline</td>\n",
       "      <td>M</td>\n",
       "      <td>8/31/2015</td>\n",
       "      <td>897751939</td>\n",
       "      <td>10/12/2015</td>\n",
       "      <td>3604</td>\n",
       "      <td>668.27</td>\n",
       "      <td>502.54</td>\n",
       "      <td>2408445.08</td>\n",
       "      <td>1811154.16</td>\n",
       "      <td>597290.92</td>\n",
       "    </tr>\n",
       "    <tr>\n",
       "      <th>1</th>\n",
       "      <td>Europe</td>\n",
       "      <td>Iceland</td>\n",
       "      <td>Baby Food</td>\n",
       "      <td>Online</td>\n",
       "      <td>H</td>\n",
       "      <td>11/20/2010</td>\n",
       "      <td>599480426</td>\n",
       "      <td>1/9/2011</td>\n",
       "      <td>8435</td>\n",
       "      <td>255.28</td>\n",
       "      <td>159.42</td>\n",
       "      <td>2153286.80</td>\n",
       "      <td>1344707.70</td>\n",
       "      <td>808579.10</td>\n",
       "    </tr>\n",
       "    <tr>\n",
       "      <th>2</th>\n",
       "      <td>Europe</td>\n",
       "      <td>Russia</td>\n",
       "      <td>Meat</td>\n",
       "      <td>Online</td>\n",
       "      <td>L</td>\n",
       "      <td>6/22/2017</td>\n",
       "      <td>538911855</td>\n",
       "      <td>6/25/2017</td>\n",
       "      <td>4848</td>\n",
       "      <td>421.89</td>\n",
       "      <td>364.69</td>\n",
       "      <td>2045322.72</td>\n",
       "      <td>1768017.12</td>\n",
       "      <td>277305.60</td>\n",
       "    </tr>\n",
       "    <tr>\n",
       "      <th>3</th>\n",
       "      <td>Europe</td>\n",
       "      <td>Moldova</td>\n",
       "      <td>Meat</td>\n",
       "      <td>Online</td>\n",
       "      <td>L</td>\n",
       "      <td>2/28/2012</td>\n",
       "      <td>459845054</td>\n",
       "      <td>3/20/2012</td>\n",
       "      <td>7225</td>\n",
       "      <td>421.89</td>\n",
       "      <td>364.69</td>\n",
       "      <td>3048155.25</td>\n",
       "      <td>2634885.25</td>\n",
       "      <td>413270.00</td>\n",
       "    </tr>\n",
       "    <tr>\n",
       "      <th>4</th>\n",
       "      <td>Europe</td>\n",
       "      <td>Malta</td>\n",
       "      <td>Cereal</td>\n",
       "      <td>Online</td>\n",
       "      <td>M</td>\n",
       "      <td>8/12/2010</td>\n",
       "      <td>626391351</td>\n",
       "      <td>9/13/2010</td>\n",
       "      <td>1975</td>\n",
       "      <td>205.70</td>\n",
       "      <td>117.11</td>\n",
       "      <td>406257.50</td>\n",
       "      <td>231292.25</td>\n",
       "      <td>174965.25</td>\n",
       "    </tr>\n",
       "  </tbody>\n",
       "</table>\n",
       "</div>"
      ],
      "text/plain": [
       "               Region   Country  Item Type Sales Channel Order Priority  \\\n",
       "0  Sub-Saharan Africa   Namibia  Household       Offline              M   \n",
       "1              Europe   Iceland  Baby Food        Online              H   \n",
       "2              Europe    Russia       Meat        Online              L   \n",
       "3              Europe  Moldova        Meat        Online              L   \n",
       "4              Europe     Malta     Cereal        Online              M   \n",
       "\n",
       "   Order Date   Order ID   Ship Date  Units Sold  Unit Price  Unit Cost  \\\n",
       "0   8/31/2015  897751939  10/12/2015        3604      668.27     502.54   \n",
       "1  11/20/2010  599480426    1/9/2011        8435      255.28     159.42   \n",
       "2   6/22/2017  538911855   6/25/2017        4848      421.89     364.69   \n",
       "3   2/28/2012  459845054   3/20/2012        7225      421.89     364.69   \n",
       "4   8/12/2010  626391351   9/13/2010        1975      205.70     117.11   \n",
       "\n",
       "   Total Revenue  Total Cost  Total Profit  \n",
       "0     2408445.08  1811154.16     597290.92  \n",
       "1     2153286.80  1344707.70     808579.10  \n",
       "2     2045322.72  1768017.12     277305.60  \n",
       "3     3048155.25  2634885.25     413270.00  \n",
       "4      406257.50   231292.25     174965.25  "
      ]
     },
     "execution_count": 18,
     "metadata": {},
     "output_type": "execute_result"
    }
   ],
   "source": [
    "import pandas as pd\n",
    "\n",
    "%time #Execution Time\n",
    "df = pd.read_csv('sales_records.csv') #My csv file\n",
    "df.head() #df.tail() prints last 5 rows # parameter can be passed i.e. df.head(10) or df.tail(15)"
   ]
  },
  {
   "cell_type": "code",
   "execution_count": 22,
   "metadata": {},
   "outputs": [
    {
     "data": {
      "text/plain": [
       "(50000, 14)"
      ]
     },
     "execution_count": 22,
     "metadata": {},
     "output_type": "execute_result"
    }
   ],
   "source": [
    "df.shape # Number of rows and columns"
   ]
  },
  {
   "cell_type": "code",
   "execution_count": 24,
   "metadata": {},
   "outputs": [
    {
     "data": {
      "text/plain": [
       "390558.738965"
      ]
     },
     "execution_count": 24,
     "metadata": {},
     "output_type": "execute_result"
    }
   ],
   "source": [
    "df.fillna(0) # fills empty cells with 0\n",
    "df['Total Profit'].mean() #Avarage"
   ]
  },
  {
   "cell_type": "code",
   "execution_count": 25,
   "metadata": {},
   "outputs": [
    {
     "data": {
      "text/html": [
       "<div>\n",
       "<style scoped>\n",
       "    .dataframe tbody tr th:only-of-type {\n",
       "        vertical-align: middle;\n",
       "    }\n",
       "\n",
       "    .dataframe tbody tr th {\n",
       "        vertical-align: top;\n",
       "    }\n",
       "\n",
       "    .dataframe thead th {\n",
       "        text-align: right;\n",
       "    }\n",
       "</style>\n",
       "<table border=\"1\" class=\"dataframe\">\n",
       "  <thead>\n",
       "    <tr style=\"text-align: right;\">\n",
       "      <th></th>\n",
       "      <th>Region</th>\n",
       "      <th>Country</th>\n",
       "      <th>Item Type</th>\n",
       "      <th>Sales Channel</th>\n",
       "      <th>Order Priority</th>\n",
       "      <th>Order Date</th>\n",
       "      <th>Order ID</th>\n",
       "      <th>Ship Date</th>\n",
       "      <th>Units Sold</th>\n",
       "      <th>Unit Price</th>\n",
       "      <th>Unit Cost</th>\n",
       "      <th>Total Revenue</th>\n",
       "      <th>Total Cost</th>\n",
       "      <th>Total Profit</th>\n",
       "    </tr>\n",
       "  </thead>\n",
       "  <tbody>\n",
       "    <tr>\n",
       "      <th>2</th>\n",
       "      <td>Europe</td>\n",
       "      <td>Russia</td>\n",
       "      <td>Meat</td>\n",
       "      <td>Online</td>\n",
       "      <td>L</td>\n",
       "      <td>6/22/2017</td>\n",
       "      <td>538911855</td>\n",
       "      <td>6/25/2017</td>\n",
       "      <td>4848</td>\n",
       "      <td>421.89</td>\n",
       "      <td>364.69</td>\n",
       "      <td>2045322.72</td>\n",
       "      <td>1768017.12</td>\n",
       "      <td>277305.60</td>\n",
       "    </tr>\n",
       "    <tr>\n",
       "      <th>3</th>\n",
       "      <td>Europe</td>\n",
       "      <td>Moldova</td>\n",
       "      <td>Meat</td>\n",
       "      <td>Online</td>\n",
       "      <td>L</td>\n",
       "      <td>2/28/2012</td>\n",
       "      <td>459845054</td>\n",
       "      <td>3/20/2012</td>\n",
       "      <td>7225</td>\n",
       "      <td>421.89</td>\n",
       "      <td>364.69</td>\n",
       "      <td>3048155.25</td>\n",
       "      <td>2634885.25</td>\n",
       "      <td>413270.00</td>\n",
       "    </tr>\n",
       "    <tr>\n",
       "      <th>4</th>\n",
       "      <td>Europe</td>\n",
       "      <td>Malta</td>\n",
       "      <td>Cereal</td>\n",
       "      <td>Online</td>\n",
       "      <td>M</td>\n",
       "      <td>8/12/2010</td>\n",
       "      <td>626391351</td>\n",
       "      <td>9/13/2010</td>\n",
       "      <td>1975</td>\n",
       "      <td>205.70</td>\n",
       "      <td>117.11</td>\n",
       "      <td>406257.50</td>\n",
       "      <td>231292.25</td>\n",
       "      <td>174965.25</td>\n",
       "    </tr>\n",
       "  </tbody>\n",
       "</table>\n",
       "</div>"
      ],
      "text/plain": [
       "   Region   Country Item Type Sales Channel Order Priority Order Date  \\\n",
       "2  Europe    Russia      Meat        Online              L  6/22/2017   \n",
       "3  Europe  Moldova       Meat        Online              L  2/28/2012   \n",
       "4  Europe     Malta    Cereal        Online              M  8/12/2010   \n",
       "\n",
       "    Order ID  Ship Date  Units Sold  Unit Price  Unit Cost  Total Revenue  \\\n",
       "2  538911855  6/25/2017        4848      421.89     364.69     2045322.72   \n",
       "3  459845054  3/20/2012        7225      421.89     364.69     3048155.25   \n",
       "4  626391351  9/13/2010        1975      205.70     117.11      406257.50   \n",
       "\n",
       "   Total Cost  Total Profit  \n",
       "2  1768017.12     277305.60  \n",
       "3  2634885.25     413270.00  \n",
       "4   231292.25     174965.25  "
      ]
     },
     "execution_count": 25,
     "metadata": {},
     "output_type": "execute_result"
    }
   ],
   "source": [
    "df[2:5] #prints row number 2-5"
   ]
  },
  {
   "cell_type": "code",
   "execution_count": 26,
   "metadata": {},
   "outputs": [
    {
     "data": {
      "text/plain": [
       "Index(['Region', 'Country', 'Item Type', 'Sales Channel', 'Order Priority',\n",
       "       'Order Date', 'Order ID', 'Ship Date', 'Units Sold', 'Unit Price',\n",
       "       'Unit Cost', 'Total Revenue', 'Total Cost', 'Total Profit'],\n",
       "      dtype='object')"
      ]
     },
     "execution_count": 26,
     "metadata": {},
     "output_type": "execute_result"
    }
   ],
   "source": [
    "df.columns #All columns"
   ]
  },
  {
   "cell_type": "code",
   "execution_count": 27,
   "metadata": {},
   "outputs": [
    {
     "data": {
      "text/plain": [
       "array(['Sub-Saharan Africa', 'Europe', 'Asia',\n",
       "       'Middle East and North Africa',\n",
       "       'Central America and the Caribbean', 'Australia and Oceania',\n",
       "       'North America'], dtype=object)"
      ]
     },
     "execution_count": 27,
     "metadata": {},
     "output_type": "execute_result"
    }
   ],
   "source": [
    "df[\"Region\"].unique() #Unique values from a column"
   ]
  },
  {
   "cell_type": "code",
   "execution_count": 32,
   "metadata": {},
   "outputs": [
    {
     "data": {
      "text/plain": [
       "array(['Namibia', 'Iceland', 'Russia', 'Moldova ', 'Malta', 'Indonesia',\n",
       "       'Djibouti', 'Greece', 'Cameroon', 'Nigeria', 'Senegal',\n",
       "       'Afghanistan', 'India', 'Lebanon', 'Turkey', 'Iraq', 'Rwanda',\n",
       "       'Ukraine', 'Finland', 'South Sudan', 'Antigua and Barbuda ',\n",
       "       'Kuwait', 'United Kingdom', 'Saint Kitts and Nevis ',\n",
       "       'Saint Lucia', 'Tunisia ', 'Yemen', 'Guinea', 'Tuvalu',\n",
       "       'South Korea', 'San Marino', 'Trinidad and Tobago', 'Kosovo',\n",
       "       'Hungary', 'Botswana', 'Serbia', 'Guatemala',\n",
       "       'United Arab Emirates', 'Samoa ', 'Bahrain',\n",
       "       'Saint Vincent and the Grenadines', 'Pakistan', 'Poland',\n",
       "       'Lithuania', 'Sudan', 'Portugal', 'Fiji', 'Tanzania',\n",
       "       'Sao Tome and Principe', 'Cape Verde', 'Greenland',\n",
       "       'Guinea-Bissau', 'Georgia', 'Jamaica', 'Bulgaria', 'Kazakhstan',\n",
       "       'Grenada', 'Honduras', 'Mongolia', 'Belize',\n",
       "       'United States of America', 'South Africa', 'Austria',\n",
       "       'Marshall Islands', 'Sierra Leone', 'Romania', 'Malaysia',\n",
       "       'New Zealand', 'Mozambique', 'Somalia', 'Denmark',\n",
       "       'Solomon Islands', 'Vanuatu', 'Singapore', 'Luxembourg',\n",
       "       'Australia', 'Brunei', 'Papua New Guinea', 'Kyrgyzstan', 'Chad',\n",
       "       'Togo', 'Mali', 'Croatia', 'Taiwan', 'Barbados',\n",
       "       'Equatorial Guinea', 'Canada', 'Eritrea', 'Mexico', 'Niger',\n",
       "       'Madagascar', 'Gabon', 'El Salvador', 'Sweden', 'Angola',\n",
       "       'Sri Lanka', 'Cyprus', 'Ethiopia', 'Liberia', 'Egypt',\n",
       "       'Montenegro', 'Nauru', 'Kiribati', 'Iran',\n",
       "       'Democratic Republic of the Congo', 'Vatican City', 'North Korea',\n",
       "       'Jordan', 'Seychelles ', 'France', 'Mauritius ', 'Cambodia',\n",
       "       'Dominican Republic', 'Tajikistan', 'Netherlands', 'Comoros',\n",
       "       'The Bahamas', 'Burundi', 'Syria', 'Estonia',\n",
       "       'Bosnia and Herzegovina', 'Tonga', 'Zambia', 'Morocco', 'Monaco',\n",
       "       'Lesotho', 'The Gambia', 'Germany', 'Slovenia', 'Benin',\n",
       "       'Turkmenistan', 'Maldives', 'Laos', 'Cuba', 'Myanmar', 'Malawi',\n",
       "       'Nicaragua', 'Ireland', 'Mauritania', 'Costa Rica', 'Azerbaijan',\n",
       "       'Saudi Arabia', 'Latvia', 'Belgium', 'Switzerland', 'Bhutan',\n",
       "       'Italy', 'Central African Republic', 'Vietnam', 'Panama', 'Kenya',\n",
       "       'Libya', 'Algeria', 'Belarus', 'Japan', 'Ghana', 'Philippines',\n",
       "       'Czech Republic', 'China', 'Liechtenstein', 'Palau', 'Macedonia',\n",
       "       'Bangladesh', 'Slovakia', 'Swaziland', 'Burkina Faso', 'Uganda',\n",
       "       'Spain', 'Andorra', 'Zimbabwe', 'Uzbekistan', 'Oman', 'Dominica',\n",
       "       \"Cote d'Ivoire\", 'Albania', 'Thailand', 'Norway', 'East Timor',\n",
       "       'Federated States of Micronesia', 'Israel', 'Haiti',\n",
       "       'Republic of the Congo', 'Qatar', 'Armenia', 'Nepal'], dtype=object)"
      ]
     },
     "execution_count": 32,
     "metadata": {},
     "output_type": "execute_result"
    }
   ],
   "source": [
    "df.Country.unique() # Above is also same . or [] can be used to access"
   ]
  },
  {
   "cell_type": "code",
   "execution_count": 33,
   "metadata": {},
   "outputs": [
    {
     "data": {
      "text/plain": [
       "377758.7696017805"
      ]
     },
     "execution_count": 33,
     "metadata": {},
     "output_type": "execute_result"
    }
   ],
   "source": [
    "df['Total Profit'].std() #Standard Deviation"
   ]
  },
  {
   "cell_type": "code",
   "execution_count": 36,
   "metadata": {},
   "outputs": [
    {
     "data": {
      "text/html": [
       "<div>\n",
       "<style scoped>\n",
       "    .dataframe tbody tr th:only-of-type {\n",
       "        vertical-align: middle;\n",
       "    }\n",
       "\n",
       "    .dataframe tbody tr th {\n",
       "        vertical-align: top;\n",
       "    }\n",
       "\n",
       "    .dataframe thead th {\n",
       "        text-align: right;\n",
       "    }\n",
       "</style>\n",
       "<table border=\"1\" class=\"dataframe\">\n",
       "  <thead>\n",
       "    <tr style=\"text-align: right;\">\n",
       "      <th></th>\n",
       "      <th>Total Cost</th>\n",
       "      <th>Total Profit</th>\n",
       "    </tr>\n",
       "  </thead>\n",
       "  <tbody>\n",
       "    <tr>\n",
       "      <th>count</th>\n",
       "      <td>5.000000e+04</td>\n",
       "      <td>5.000000e+04</td>\n",
       "    </tr>\n",
       "    <tr>\n",
       "      <th>mean</th>\n",
       "      <td>9.331574e+05</td>\n",
       "      <td>3.905587e+05</td>\n",
       "    </tr>\n",
       "    <tr>\n",
       "      <th>std</th>\n",
       "      <td>1.145548e+06</td>\n",
       "      <td>3.777588e+05</td>\n",
       "    </tr>\n",
       "    <tr>\n",
       "      <th>min</th>\n",
       "      <td>2.076000e+01</td>\n",
       "      <td>7.230000e+00</td>\n",
       "    </tr>\n",
       "    <tr>\n",
       "      <th>25%</th>\n",
       "      <td>1.606370e+05</td>\n",
       "      <td>9.415092e+04</td>\n",
       "    </tr>\n",
       "    <tr>\n",
       "      <th>50%</th>\n",
       "      <td>4.671040e+05</td>\n",
       "      <td>2.795364e+05</td>\n",
       "    </tr>\n",
       "    <tr>\n",
       "      <th>75%</th>\n",
       "      <td>1.190390e+06</td>\n",
       "      <td>5.642867e+05</td>\n",
       "    </tr>\n",
       "    <tr>\n",
       "      <th>max</th>\n",
       "      <td>5.249075e+06</td>\n",
       "      <td>1.738178e+06</td>\n",
       "    </tr>\n",
       "  </tbody>\n",
       "</table>\n",
       "</div>"
      ],
      "text/plain": [
       "         Total Cost  Total Profit\n",
       "count  5.000000e+04  5.000000e+04\n",
       "mean   9.331574e+05  3.905587e+05\n",
       "std    1.145548e+06  3.777588e+05\n",
       "min    2.076000e+01  7.230000e+00\n",
       "25%    1.606370e+05  9.415092e+04\n",
       "50%    4.671040e+05  2.795364e+05\n",
       "75%    1.190390e+06  5.642867e+05\n",
       "max    5.249075e+06  1.738178e+06"
      ]
     },
     "execution_count": 36,
     "metadata": {},
     "output_type": "execute_result"
    }
   ],
   "source": [
    "df[['Total Cost', 'Total Profit']].describe() #All statistics will be printed \n",
    "#df.describe() will print stats of all numerical columns"
   ]
  },
  {
   "cell_type": "code",
   "execution_count": 62,
   "metadata": {},
   "outputs": [
    {
     "data": {
      "text/html": [
       "<div>\n",
       "<style scoped>\n",
       "    .dataframe tbody tr th:only-of-type {\n",
       "        vertical-align: middle;\n",
       "    }\n",
       "\n",
       "    .dataframe tbody tr th {\n",
       "        vertical-align: top;\n",
       "    }\n",
       "\n",
       "    .dataframe thead th {\n",
       "        text-align: right;\n",
       "    }\n",
       "</style>\n",
       "<table border=\"1\" class=\"dataframe\">\n",
       "  <thead>\n",
       "    <tr style=\"text-align: right;\">\n",
       "      <th></th>\n",
       "      <th>Order ID</th>\n",
       "      <th>level_0</th>\n",
       "      <th>index</th>\n",
       "      <th>Region</th>\n",
       "      <th>Country</th>\n",
       "      <th>Item Type</th>\n",
       "      <th>Sales Channel</th>\n",
       "      <th>Order Priority</th>\n",
       "      <th>Order Date</th>\n",
       "      <th>Ship Date</th>\n",
       "      <th>Units Sold</th>\n",
       "      <th>Unit Price</th>\n",
       "      <th>Unit Cost</th>\n",
       "      <th>Total Revenue</th>\n",
       "      <th>Total Cost</th>\n",
       "      <th>Total Profit</th>\n",
       "    </tr>\n",
       "  </thead>\n",
       "  <tbody>\n",
       "    <tr>\n",
       "      <th>0</th>\n",
       "      <td>897751939</td>\n",
       "      <td>0</td>\n",
       "      <td>0</td>\n",
       "      <td>Sub-Saharan Africa</td>\n",
       "      <td>Namibia</td>\n",
       "      <td>Household</td>\n",
       "      <td>Offline</td>\n",
       "      <td>M</td>\n",
       "      <td>8/31/2015</td>\n",
       "      <td>10/12/2015</td>\n",
       "      <td>3604</td>\n",
       "      <td>668.27</td>\n",
       "      <td>502.54</td>\n",
       "      <td>2408445.08</td>\n",
       "      <td>1811154.16</td>\n",
       "      <td>597290.92</td>\n",
       "    </tr>\n",
       "    <tr>\n",
       "      <th>1</th>\n",
       "      <td>599480426</td>\n",
       "      <td>1</td>\n",
       "      <td>1</td>\n",
       "      <td>Europe</td>\n",
       "      <td>Iceland</td>\n",
       "      <td>Baby Food</td>\n",
       "      <td>Online</td>\n",
       "      <td>H</td>\n",
       "      <td>11/20/2010</td>\n",
       "      <td>1/9/2011</td>\n",
       "      <td>8435</td>\n",
       "      <td>255.28</td>\n",
       "      <td>159.42</td>\n",
       "      <td>2153286.80</td>\n",
       "      <td>1344707.70</td>\n",
       "      <td>808579.10</td>\n",
       "    </tr>\n",
       "    <tr>\n",
       "      <th>2</th>\n",
       "      <td>538911855</td>\n",
       "      <td>2</td>\n",
       "      <td>2</td>\n",
       "      <td>Europe</td>\n",
       "      <td>Russia</td>\n",
       "      <td>Meat</td>\n",
       "      <td>Online</td>\n",
       "      <td>L</td>\n",
       "      <td>6/22/2017</td>\n",
       "      <td>6/25/2017</td>\n",
       "      <td>4848</td>\n",
       "      <td>421.89</td>\n",
       "      <td>364.69</td>\n",
       "      <td>2045322.72</td>\n",
       "      <td>1768017.12</td>\n",
       "      <td>277305.60</td>\n",
       "    </tr>\n",
       "    <tr>\n",
       "      <th>3</th>\n",
       "      <td>459845054</td>\n",
       "      <td>3</td>\n",
       "      <td>3</td>\n",
       "      <td>Europe</td>\n",
       "      <td>Moldova</td>\n",
       "      <td>Meat</td>\n",
       "      <td>Online</td>\n",
       "      <td>L</td>\n",
       "      <td>2/28/2012</td>\n",
       "      <td>3/20/2012</td>\n",
       "      <td>7225</td>\n",
       "      <td>421.89</td>\n",
       "      <td>364.69</td>\n",
       "      <td>3048155.25</td>\n",
       "      <td>2634885.25</td>\n",
       "      <td>413270.00</td>\n",
       "    </tr>\n",
       "    <tr>\n",
       "      <th>4</th>\n",
       "      <td>626391351</td>\n",
       "      <td>4</td>\n",
       "      <td>4</td>\n",
       "      <td>Europe</td>\n",
       "      <td>Malta</td>\n",
       "      <td>Cereal</td>\n",
       "      <td>Online</td>\n",
       "      <td>M</td>\n",
       "      <td>8/12/2010</td>\n",
       "      <td>9/13/2010</td>\n",
       "      <td>1975</td>\n",
       "      <td>205.70</td>\n",
       "      <td>117.11</td>\n",
       "      <td>406257.50</td>\n",
       "      <td>231292.25</td>\n",
       "      <td>174965.25</td>\n",
       "    </tr>\n",
       "  </tbody>\n",
       "</table>\n",
       "</div>"
      ],
      "text/plain": [
       "    Order ID  level_0  index              Region   Country  Item Type  \\\n",
       "0  897751939        0      0  Sub-Saharan Africa   Namibia  Household   \n",
       "1  599480426        1      1              Europe   Iceland  Baby Food   \n",
       "2  538911855        2      2              Europe    Russia       Meat   \n",
       "3  459845054        3      3              Europe  Moldova        Meat   \n",
       "4  626391351        4      4              Europe     Malta     Cereal   \n",
       "\n",
       "  Sales Channel Order Priority  Order Date   Ship Date  Units Sold  \\\n",
       "0       Offline              M   8/31/2015  10/12/2015        3604   \n",
       "1        Online              H  11/20/2010    1/9/2011        8435   \n",
       "2        Online              L   6/22/2017   6/25/2017        4848   \n",
       "3        Online              L   2/28/2012   3/20/2012        7225   \n",
       "4        Online              M   8/12/2010   9/13/2010        1975   \n",
       "\n",
       "   Unit Price  Unit Cost  Total Revenue  Total Cost  Total Profit  \n",
       "0      668.27     502.54     2408445.08  1811154.16     597290.92  \n",
       "1      255.28     159.42     2153286.80  1344707.70     808579.10  \n",
       "2      421.89     364.69     2045322.72  1768017.12     277305.60  \n",
       "3      421.89     364.69     3048155.25  2634885.25     413270.00  \n",
       "4      205.70     117.11      406257.50   231292.25     174965.25  "
      ]
     },
     "execution_count": 62,
     "metadata": {},
     "output_type": "execute_result"
    }
   ],
   "source": [
    "df.set_index('Order ID', inplace=True)#Change the index and set it to Order date. Check Output\n",
    "df.reset_index(inplace=True) #inplace=True will modify df directly i.e. same as df = df.set_index('Order ID')\n",
    "df.head()"
   ]
  },
  {
   "cell_type": "code",
   "execution_count": 5,
   "metadata": {},
   "outputs": [
    {
     "data": {
      "text/plain": [
       "<matplotlib.axes._subplots.AxesSubplot at 0x7fe55232e668>"
      ]
     },
     "execution_count": 5,
     "metadata": {},
     "output_type": "execute_result"
    },
    {
     "data": {
      "image/png": "[encoded data removed]",
      "text/plain": [
       "<Figure size 432x288 with 1 Axes>"
      ]
     },
     "metadata": {
      "needs_background": "light"
     },
     "output_type": "display_data"
    }
   ],
   "source": [
    "%matplotlib inline\n",
    "df.plot(x=\"Total Cost\", y=\"Total Profit\", color=\"Green\") #Matplotlib Graph"
   ]
  },
  {
   "cell_type": "code",
   "execution_count": 9,
   "metadata": {},
   "outputs": [
    {
     "data": {
      "text/plain": [
       "1738178.39"
      ]
     },
     "execution_count": 9,
     "metadata": {},
     "output_type": "execute_result"
    }
   ],
   "source": [
    "df['Total Profit'].max() #max"
   ]
  },
  {
   "cell_type": "code",
   "execution_count": 29,
   "metadata": {},
   "outputs": [
    {
     "data": {
      "text/html": [
       "<div>\n",
       "<style scoped>\n",
       "    .dataframe tbody tr th:only-of-type {\n",
       "        vertical-align: middle;\n",
       "    }\n",
       "\n",
       "    .dataframe tbody tr th {\n",
       "        vertical-align: top;\n",
       "    }\n",
       "\n",
       "    .dataframe thead th {\n",
       "        text-align: right;\n",
       "    }\n",
       "</style>\n",
       "<table border=\"1\" class=\"dataframe\">\n",
       "  <thead>\n",
       "    <tr style=\"text-align: right;\">\n",
       "      <th></th>\n",
       "      <th>Order ID</th>\n",
       "      <th>Order Date</th>\n",
       "    </tr>\n",
       "  </thead>\n",
       "  <tbody>\n",
       "    <tr>\n",
       "      <th>11707</th>\n",
       "      <td>553966987</td>\n",
       "      <td>11/14/2015</td>\n",
       "    </tr>\n",
       "  </tbody>\n",
       "</table>\n",
       "</div>"
      ],
      "text/plain": [
       "        Order ID  Order Date\n",
       "11707  553966987  11/14/2015"
      ]
     },
     "execution_count": 29,
     "metadata": {},
     "output_type": "execute_result"
    }
   ],
   "source": [
    "df[['Order ID', 'Order Date']][df['Total Profit'] == df['Total Profit'].max()]"
   ]
  },
  {
   "cell_type": "code",
   "execution_count": 1,
   "metadata": {},
   "outputs": [
    {
     "data": {
      "text/html": [
       "<iframe width=\"560\" height=\"315\" src=\"https://www.youtube.com/embed/EEEZX_0FMEc\" frameborder=\"0\" allow=\"accelerometer; autoplay; encrypted-media; gyroscope; picture-in-picture\" allowfullscreen></iframe>\n"
      ],
      "text/plain": [
       "<IPython.core.display.HTML object>"
      ]
     },
     "metadata": {},
     "output_type": "display_data"
    }
   ],
   "source": [
    "%%HTML # Embedding youtube video\n",
    "<iframe width=\"560\" height=\"315\" src=\"https://www.youtube.com/embed/EEEZX_0FMEc\" frameborder=\"0\" allow=\"accelerometer; autoplay; encrypted-media; gyroscope; picture-in-picture\" allowfullscreen></iframe>"
   ]
  }
 ],
 "metadata": {
  "kernelspec": {
   "display_name": "Python 3",
   "language": "python",
   "name": "python3"
  },
  "language_info": {
   "codemirror_mode": {
    "name": "ipython",
    "version": 3
   },
   "file_extension": ".py",
   "mimetype": "text/x-python",
   "name": "python",
   "nbconvert_exporter": "python",
   "pygments_lexer": "ipython3",
   "version": "3.6.7"
  }
 },
 "nbformat": 4,
 "nbformat_minor": 2
}
